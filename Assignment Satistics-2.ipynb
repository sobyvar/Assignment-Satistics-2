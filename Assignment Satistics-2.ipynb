{
 "cells": [
  {
   "cell_type": "code",
   "execution_count": 1,
   "metadata": {},
   "outputs": [],
   "source": [
    "import math"
   ]
  },
  {
   "cell_type": "code",
   "execution_count": 2,
   "metadata": {},
   "outputs": [
    {
     "name": "stdout",
     "output_type": "stream",
     "text": [
      "Number of questions(n) in MCQ is 20\n",
      "Probabilty of success(p) in MCQ is 0.25\n",
      "Probabilty of failure(1 - p) in MCQ is 0.75\n",
      "No of questions(x) exactly right  in MCQ is 15\n",
      "Probaility of exactly 5 questions wrong is 0.9999965735041769\n"
     ]
    }
   ],
   "source": [
    "# Porbaility of exact 5 questions wrong out of 20 with success of 0.25\n",
    "\n",
    "print('Number of questions(n) in MCQ is', 20)\n",
    "print('Probabilty of success(p) in MCQ is', 1/4)\n",
    "print('Probabilty of failure(1 - p) in MCQ is', (1 - 1/4) )\n",
    "print('No of questions(x) exactly right  in MCQ is', 15  )\n",
    "print( 'Probaility of exactly 5 questions wrong is',\n",
    "( 1- math.factorial(20)/( math.factorial(15) * math.factorial(5) ) * (0.25**15) * (0.75**5)) )"
   ]
  },
  {
   "cell_type": "code",
   "execution_count": 3,
   "metadata": {},
   "outputs": [
    {
     "name": "stdout",
     "output_type": "stream",
     "text": [
      "Number of times(n) dice is rolled   50\n",
      "Probabilty of success(p) of getting D is  0.2\n",
      "Probabilty of failure(1 - p) of getting D is  0.8\n",
      "No of times(x) D has appeared exactly  5\n",
      "Probaility of sucess of D is 0.029531204310524296\n"
     ]
    }
   ],
   "source": [
    "# Probaility of D appearing exactly 5 time when dice is rolled 50 times\n",
    "\n",
    "print('Number of times(n) dice is rolled  ', 50)\n",
    "print('Probabilty of success(p) of getting D is ', 1/5)\n",
    "print('Probabilty of failure(1 - p) of getting D is ', (1 - 1/5) )\n",
    "print('No of times(x) D has appeared exactly ', 5  )\n",
    "print( 'Probaility of sucess of D is',\n",
    " math.factorial(50)/( math.factorial(5) * math.factorial(45) ) * (0.2**5) * (0.8**45)  )"
   ]
  },
  {
   "cell_type": "code",
   "execution_count": 4,
   "metadata": {},
   "outputs": [
    {
     "name": "stdout",
     "output_type": "stream",
     "text": [
      "Probability of drawing the first  red ball is 0.4\n",
      "Probability of drawing the second red ball is 0.3333333333333333\n",
      "Probability of drawing the first  red ball is 0.4\n",
      "Probability of drawing the second black ball is 0.6666666666666666\n",
      "Probability of drawing the first  black ball is 0.6\n",
      "Probability of drawing the second black ball is 0.5555555555555556\n",
      "Probability of drawing the first  black ball is 0.6\n",
      "Probability of drawing the second black ball is 0.4444444444444444\n",
      "Probability of all the combinations should be 1\n",
      "1.0\n"
     ]
    }
   ],
   "source": [
    "# Probabibility of drawing 2 balls without putting it back 4 red and 6 black balls\n",
    "# Probability of drawing first ball is red and second ball is also red\n",
    "print('Probability of drawing the first  red ball is' , 4/10)\n",
    "print('Probability of drawing the second red ball is' , 3/9)\n",
    "# Probability of drawing first ball is red and second ball is black\n",
    "print('Probability of drawing the first  red ball is' , 4/10)\n",
    "print('Probability of drawing the second black ball is' , 6/9)\n",
    "# Probability of drawing first ball is black and second ball is also black\n",
    "print('Probability of drawing the first  black ball is' , 6/10)\n",
    "print('Probability of drawing the second black ball is' , 5/9)\n",
    "# Probability of drawing first ball is black and second ball is also red\n",
    "print('Probability of drawing the first  black ball is' , 6/10)\n",
    "print('Probability of drawing the second black ball is' , 4/9)\n",
    "\n",
    "print('Probability of all the combinations should be 1')\n",
    "print( ((4/10) * (3/9)) + ((4/10) * (6/9)) + ((6/10) * (5/9))  + ((6/10) * (4/9)) ) "
   ]
  },
  {
   "cell_type": "code",
   "execution_count": null,
   "metadata": {},
   "outputs": [],
   "source": []
  }
 ],
 "metadata": {
  "kernelspec": {
   "display_name": "Python 3",
   "language": "python",
   "name": "python3"
  },
  "language_info": {
   "codemirror_mode": {
    "name": "ipython",
    "version": 3
   },
   "file_extension": ".py",
   "mimetype": "text/x-python",
   "name": "python",
   "nbconvert_exporter": "python",
   "pygments_lexer": "ipython3",
   "version": "3.6.6"
  }
 },
 "nbformat": 4,
 "nbformat_minor": 2
}
